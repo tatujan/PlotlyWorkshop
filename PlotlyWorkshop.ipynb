{
 "cells": [
  {
   "cell_type": "code",
   "execution_count": null,
   "id": "317b8252-79e7-402f-8cd4-8456d8d90618",
   "metadata": {},
   "outputs": [],
   "source": [
    "## This is the Jupyter Notebook file we'll use on the live workshop demo."
   ]
  },
  {
   "cell_type": "code",
   "execution_count": null,
   "id": "fb60dd11-88c0-40b1-a591-1bc2e328f562",
   "metadata": {},
   "outputs": [],
   "source": []
  }
 ],
 "metadata": {
  "kernelspec": {
   "display_name": "Python 3 (ipykernel)",
   "language": "python",
   "name": "python3"
  },
  "language_info": {
   "codemirror_mode": {
    "name": "ipython",
    "version": 3
   },
   "file_extension": ".py",
   "mimetype": "text/x-python",
   "name": "python",
   "nbconvert_exporter": "python",
   "pygments_lexer": "ipython3",
   "version": "3.10.9"
  }
 },
 "nbformat": 4,
 "nbformat_minor": 5
}
